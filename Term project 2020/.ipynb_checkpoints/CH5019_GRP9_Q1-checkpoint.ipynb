{
 "cells": [
  {
   "cell_type": "markdown",
   "metadata": {},
   "source": [
    "<font face= 'courier new' size=3 color=deeppink >\n",
    "CH5019:Mathematical Foundations of Data Science\n",
    "        \n",
    "    \n",
    "__TERM PROJECT__         \n",
    "- January-May 2020 \n",
    "- Group-9\n",
    "\n",
    "Question 1  \n",
    "Paste the code in Term_Project folder and run it,\n",
    "Representative images are stored in Dataset_Q1  folder\n"
   ]
  },
  {
   "cell_type": "code",
   "execution_count": 1,
   "metadata": {},
   "outputs": [],
   "source": [
    "import os\n",
    "import sys\n",
    "import numpy as np"
   ]
  },
  {
   "cell_type": "code",
   "execution_count": 3,
   "metadata": {},
   "outputs": [],
   "source": [
    "class Read_Write:\n",
    "\n",
    "    def __init__(self,location):\n",
    "        self.loc=location\n",
    "        self.width=0\n",
    "        self.height=0\n",
    "\n",
    "    def read_image(self,file_name):\n",
    "        try:\n",
    "            infile=open(file_name, 'rb')\n",
    "        except IOError:\n",
    "            print (\"Cannot open\",file_name)\n",
    "            sys.exit()\n",
    "\n",
    "        # reading and processing file details\n",
    "        header = infile.readline()\n",
    "        \n",
    "        self.width, self.height, maxval = [int(item) for item in header.split()[1:]]\n",
    "\n",
    "        #reading the image into a matrix of unsigned 8 bit data type\n",
    "        infile.seek(len(header))\n",
    "        img = np.fromfile(infile,dtype=np.uint8).reshape(self.height,self.width)\n",
    "\n",
    "        #closing file\n",
    "        infile.close()\n",
    "\n",
    "        #returning the matrix \n",
    "        return img\n",
    "\n",
    "    def write_image(self,image,i):\n",
    "        file_name=self.loc+str(i)+\"_rep.pgm\"\n",
    "        #storing the matrix data into a 1-D array\n",
    "        buff=np.array('B')\n",
    "        image=np.array(image,dtype=np.uint8).reshape(self.height*self.width)\n",
    "        \n",
    "        \n",
    "        #opening file\n",
    "        try:\n",
    "            fout=open(file_name, 'wb')\n",
    "        except IOError:\n",
    "            print (\"Cannot open\",file_name)\n",
    "            sys.exit()\n",
    "        \n",
    "\n",
    "        # define PGM Header\n",
    "        pgmHeader = 'P5' + '\\n' + str(self.width) + '  ' + str(self.height) + '  ' + str(255) + '\\n'\n",
    "        pgmHeader= bytes(pgmHeader, 'ascii')\n",
    "\n",
    "        # write the header to the file\n",
    "        fout.write(pgmHeader)\n",
    "\n",
    "        # write the data to the file \n",
    "        buff.tofile(fout)\n",
    "        image.tofile(fout)\n",
    "\n",
    "        # close the file\n",
    "        fout.close()"
   ]
  },
  {
   "cell_type": "code",
   "execution_count": 4,
   "metadata": {},
   "outputs": [],
   "source": [
    "class Images:\n",
    "    def __init__(self,images,width,height):\n",
    "        \n",
    "        self.images=np.array(images,dtype=int).reshape(15,10,width*height)\n",
    "        self.rep_img=np.zeros((15,height*width))\n",
    "\n",
    "        self.width=width\n",
    "        self.height=height\n",
    "\n",
    "    def shift_all(self):\n",
    "        self.images_shifted=np.zeros((15,10,self.width*self.height))\n",
    "        for i in range(15):\n",
    "            for j in range(10):\n",
    "                self.images_shifted[i][j]=np.array(self.shift(i,j))\n",
    "\n",
    "    def shift(self,i,j):\n",
    "        temp=np.array(self.images[i][j])\n",
    "        temp= (temp-temp.mean())/temp.std()\n",
    "        return temp\n",
    "    \n",
    "    def compute_rep(self):\n",
    "        #pca=np.zeros((10,self.width*self.height))\n",
    "        for i in range(15):\n",
    "            pca=np.array(self.images_shifted[i])\n",
    "            U,S,Vt=np.linalg.svd(pca)\n",
    "            self.rep_img[i]=-1*np.dot(pca.transpose(),U[:,0]+U[:,1]+U[:,2])\n",
    "    \n",
    "    def match_faces(self):\n",
    "        match=0\n",
    "        non_match=0\n",
    "        for i in range(15):\n",
    "            for j in range(10):\n",
    "                min_cov=10000000000\n",
    "                m=-1\n",
    "                for k in range(15):\n",
    "                    curr=np.linalg.norm(self.rep_img[k]-self.images_shifted[i][j])\n",
    "                    if curr<min_cov:\n",
    "                        m=k\n",
    "                        min_cov=curr\n",
    "                if m==i:\n",
    "                    match+=1\n",
    "                else:\n",
    "                    non_match+=1\n",
    "        return match,non_match"
   ]
  },
  {
   "cell_type": "code",
   "execution_count": 5,
   "metadata": {},
   "outputs": [],
   "source": [
    "#getting the directory location\n",
    "location=os.getcwd()\n",
    "location=location+\"/Dataset_Question1/\"\n",
    "Bob=Read_Write(location)"
   ]
  },
  {
   "cell_type": "code",
   "execution_count": 6,
   "metadata": {},
   "outputs": [],
   "source": [
    "images=[]\n",
    "#accessing each pgm file\n",
    "for per in range(1,16):\n",
    "    for i in range(1,11):\n",
    "        name=location+str(\n",
    "per)+\"/\"+str(i)+\".pgm\"\n",
    "        img=Bob.read_image(name)\n",
    "        images.append(img)"
   ]
  },
  {
   "cell_type": "code",
   "execution_count": 7,
   "metadata": {},
   "outputs": [],
   "source": [
    "#creating an pbject image\n",
    "images=Images(images,Bob.width,Bob.height)\n",
    "images.shift_all()"
   ]
  },
  {
   "cell_type": "code",
   "execution_count": 8,
   "metadata": {},
   "outputs": [],
   "source": [
    "#computing the represesntative images\n",
    "images.compute_rep()"
   ]
  },
  {
   "cell_type": "code",
   "execution_count": 10,
   "metadata": {},
   "outputs": [
    {
     "name": "stdout",
     "output_type": "stream",
     "text": [
      "117 faces out of 150 match with their respective subjects\n",
      "efficiency of 78.0 %\n"
     ]
    }
   ],
   "source": [
    "#Writing the representative images into pgm files\n",
    "i=1\n",
    "for img in images.rep_img:\n",
    "    Bob.write_image(img,i)\n",
    "    i+=1\n",
    "match,non_match=images.match_faces()\n",
    "print(match,\"faces out of 150 match with their respective subjects\")\n",
    "print(\"efficiency of\",match*100/150,\"%\")"
   ]
  }
 ],
 "metadata": {
  "hide_input": false,
  "kernelspec": {
   "display_name": "Python 3",
   "language": "python",
   "name": "python3"
  },
  "language_info": {
   "codemirror_mode": {
    "name": "ipython",
    "version": 3
   },
   "file_extension": ".py",
   "mimetype": "text/x-python",
   "name": "python",
   "nbconvert_exporter": "python",
   "pygments_lexer": "ipython3",
   "version": "3.6.0"
  },
  "toc": {
   "base_numbering": 1,
   "nav_menu": {},
   "number_sections": true,
   "sideBar": true,
   "skip_h1_title": false,
   "title_cell": "Table of Contents",
   "title_sidebar": "Contents",
   "toc_cell": false,
   "toc_position": {},
   "toc_section_display": true,
   "toc_window_display": false
  }
 },
 "nbformat": 4,
 "nbformat_minor": 2
}
